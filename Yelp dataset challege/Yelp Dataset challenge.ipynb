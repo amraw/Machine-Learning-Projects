{
 "cells": [
  {
   "cell_type": "markdown",
   "metadata": {},
   "source": [
    "## Yelp Dataset challenge"
   ]
  },
  {
   "cell_type": "code",
   "execution_count": 1,
   "metadata": {},
   "outputs": [],
   "source": [
    "# Importing classes\n",
    "import re\n",
    "from nltk.stem.porter import *\n",
    "from nltk.stem.snowball import SnowballStemmer\n",
    "import string\n",
    "from py2casefold import casefold\n",
    "import pandas as pd\n",
    "from collections import Counter\n",
    "import matplotlib.pyplot as plt \n",
    "import numpy as np\n",
    "from sklearn.feature_extraction import DictVectorizer\n",
    "from sklearn import metrics\n",
    "from sklearn.model_selection import train_test_split\n",
    "from sklearn.feature_extraction.text import TfidfTransformer\n",
    "from sklearn.naive_bayes import MultinomialNB \n",
    "from sklearn.neighbors import KNeighborsClassifier\n",
    "from sklearn.svm import LinearSVC\n",
    "from sklearn.tree import DecisionTreeClassifier\n",
    "from sklearn.model_selection import cross_val_predict\n",
    "from sklearn.model_selection import cross_val_score\n",
    "from scipy import sparse\n",
    "from nltk.corpus import stopwords\n",
    "from sklearn.ensemble import RandomForestClassifier\n",
    "from sklearn.neural_network import MLPClassifier\n",
    "from nltk import NaiveBayesClassifier"
   ]
  },
  {
   "cell_type": "markdown",
   "metadata": {},
   "source": [
    "#### Functions for parsing and stemming the dataset"
   ]
  },
  {
   "cell_type": "code",
   "execution_count": 2,
   "metadata": {},
   "outputs": [],
   "source": [
    "reviews = pd.read_json('training_data.json', lines=True) # read data from jason\n",
    "\n",
    "#function for reviewing text\n",
    "def getReviewText():\n",
    "    reviews_text = reviews['text']\n",
    "    return reviews_text \n",
    "\n",
    "#function to get labels\n",
    "def getLabels():\n",
    "    reviews_labels = np.zeros((len(reviews['label']),1))\n",
    "    for index in range(len(reviews['label'])):\n",
    "        if reviews['label'][index] == 'Food-relevant':\n",
    "            reviews_labels[index] = 1\n",
    "    return reviews_labels"
   ]
  },
  {
   "cell_type": "code",
   "execution_count": 3,
   "metadata": {},
   "outputs": [],
   "source": [
    "# function for parsing each review\n",
    "def parseEachReview():\n",
    "    reviews = getReviewText()\n",
    "    reviews_feature = []\n",
    "    for review in reviews:\n",
    "        review = review.lower()\n",
    "        for i in range(10):\n",
    "            review = review.replace(str(i),\"\")\n",
    "        review_word_list = re.split('[~%$\\&\\s,.;+\\-\\n\\*()!?[\\]@#:/\"^_`{|}~<=>\\']',review)\n",
    "        review_word_list_stemmed = getStemmedWordList(review_word_list)\n",
    "        reviews_feature.append(Counter(review_word_list_stemmed))\n",
    "    return reviews_feature\n",
    "    \n",
    "# function for parsing whole bunch of reviews\n",
    "def parseReviewText():\n",
    "    reviews = getReviewText()\n",
    "    reviewsStr = ' '.join(reviews)\n",
    "    reviewsStr = reviewsStr.lower()\n",
    "    for i in range(10):\n",
    "        reviewsStr = reviewsStr.replace(str(i),\"\")\n",
    "    reviewsStr = reviewsStr.replace(\"\\\\n\", \"\")\n",
    "    word_list = re.split('[~%$\\&\\s,.;+\\-\\n\\*()!?[\\]@#:/\"^_`{|}~<=>\\']',reviewsStr)\n",
    "    return word_list"
   ]
  },
  {
   "cell_type": "code",
   "execution_count": 4,
   "metadata": {},
   "outputs": [],
   "source": [
    "# Function for perforing stemming operation\n",
    "def getStemmedWordList(word_list):\n",
    "    stemmer = PorterStemmer(mode='NLTK_EXTENSIONS')\n",
    "    stemmer2 = SnowballStemmer(\"english\")\n",
    "    stemmed_word_list = []\n",
    "    for word in word_list:\n",
    "        if '\\\\' in word:\n",
    "            word = word.strip('\\\\')\n",
    "        if word == \"\": \n",
    "            continue\n",
    "        else:\n",
    "            stemmed_word_list.append(stemmer2.stem(word))\n",
    "    return stemmed_word_list"
   ]
  },
  {
   "cell_type": "code",
   "execution_count": 5,
   "metadata": {
    "scrolled": true
   },
   "outputs": [],
   "source": [
    "stemmed_word_list = getStemmedWordList(parseReviewText()) #create stemmed word list"
   ]
  },
  {
   "cell_type": "markdown",
   "metadata": {},
   "source": [
    "#### Unique tokens"
   ]
  },
  {
   "cell_type": "code",
   "execution_count": 6,
   "metadata": {
    "scrolled": true
   },
   "outputs": [
    {
     "name": "stdout",
     "output_type": "stream",
     "text": [
      "Unique words in list:  34689\n"
     ]
    }
   ],
   "source": [
    "print \"Unique words in list: \",len(set(stemmed_word_list))"
   ]
  },
  {
   "cell_type": "markdown",
   "metadata": {},
   "source": [
    "#### Zipf's Plot: - To check the distribution of words"
   ]
  },
  {
   "cell_type": "code",
   "execution_count": 8,
   "metadata": {},
   "outputs": [
    {
     "data": {
      "text/plain": [
       "[<matplotlib.lines.Line2D at 0x7fabff2501d0>]"
      ]
     },
     "execution_count": 8,
     "metadata": {},
     "output_type": "execute_result"
    },
    {
     "data": {
      "image/png": "[encoded data removed]",
      "text/plain": [
       "<matplotlib.figure.Figure at 0x7fac3fa2a8d0>"
      ]
     },
     "metadata": {},
     "output_type": "display_data"
    }
   ],
   "source": [
    "# your code here\n",
    "%matplotlib inline \n",
    "word_frequency = Counter(stemmed_word_list)\n",
    "word_frequency_sorted = sorted(word_frequency.items(), key=lambda word:word[1], reverse=True)\n",
    "word_frequency_only = np.array(zip(*word_frequency_sorted)[1])\n",
    "rank_log = np.log10(np.arange(1,len(word_frequency)+1, 1))\n",
    "word_frequency_log = np.log10(word_frequency_only)\n",
    "plt.plot(rank_log, word_frequency_log)"
   ]
  },
  {
   "cell_type": "markdown",
   "metadata": {},
   "source": [
    "##### Result: - \n",
    "The plot is not consistent with the zipf's law. If we look at the list of most frequent words printed above frequency of 'i' is close to half of frequency of 'the'. But the frequency of 'and' and 'a' is not close to one third and one foruth of frequency of 'the'."
   ]
  },
  {
   "cell_type": "markdown",
   "metadata": {},
   "source": [
    "#### Creating features vector"
   ]
  },
  {
   "cell_type": "code",
   "execution_count": 9,
   "metadata": {},
   "outputs": [],
   "source": [
    "# your code\n",
    "reviews_labels = getLabels()      # get review labels in integer form 0 = 'Food irrelevent' and 1 = 'Food relevent'\n",
    "reviews_feature = parseEachReview() # Parse each review and get the counts of words in each word"
   ]
  },
  {
   "cell_type": "code",
   "execution_count": 10,
   "metadata": {},
   "outputs": [],
   "source": [
    "vec = DictVectorizer()"
   ]
  },
  {
   "cell_type": "code",
   "execution_count": 11,
   "metadata": {},
   "outputs": [],
   "source": [
    "data_set = vec.fit_transform(reviews_feature) # transform the feature space to a sparse matrix"
   ]
  },
  {
   "cell_type": "code",
   "execution_count": 12,
   "metadata": {},
   "outputs": [],
   "source": [
    "# spliting in test and train set\n",
    "reviews_train_set,reviews_test_set, reviews_train_label,  reviews_test_label = train_test_split(data_set,\n",
    "                                            reviews_labels , test_size=0.3, random_state=42)"
   ]
  },
  {
   "cell_type": "code",
   "execution_count": 13,
   "metadata": {},
   "outputs": [
    {
     "name": "stdout",
     "output_type": "stream",
     "text": [
      "Accuraycy of Naive Bayes\n",
      "accuracy: 0.947\n",
      "             precision    recall  f1-score   support\n",
      "\n",
      "        0.0       0.95      0.94      0.95      5999\n",
      "        1.0       0.94      0.96      0.95      6001\n",
      "\n",
      "avg / total       0.95      0.95      0.95     12000\n",
      "\n"
     ]
    }
   ],
   "source": [
    "naiveBayes = MultinomialNB()\n",
    "naiveBayes.fit(reviews_train_set,reviews_train_label.ravel())\n",
    "test_predict=naiveBayes.predict(reviews_test_set)\n",
    "score_nb = metrics.accuracy_score(reviews_test_label,test_predict)\n",
    "print \"Accuraycy of Naive Bayes\"\n",
    "print(\"accuracy: %0.3f\" % score_nb)\n",
    "print(metrics.classification_report(reviews_test_label,test_predict))"
   ]
  },
  {
   "cell_type": "code",
   "execution_count": 14,
   "metadata": {
    "scrolled": true
   },
   "outputs": [
    {
     "name": "stdout",
     "output_type": "stream",
     "text": [
      "Accuraycy of Linear SVM\n",
      "accuracy: 0.940\n",
      "             precision    recall  f1-score   support\n",
      "\n",
      "        0.0       0.94      0.94      0.94      5999\n",
      "        1.0       0.94      0.94      0.94      6001\n",
      "\n",
      "avg / total       0.94      0.94      0.94     12000\n",
      "\n"
     ]
    }
   ],
   "source": [
    "linearSVC = LinearSVC()\n",
    "linearSVC.fit(reviews_train_set,reviews_train_label.ravel())\n",
    "linearSVC_predict = linearSVC.predict(reviews_test_set)\n",
    "score_svm = metrics.accuracy_score(reviews_test_label,linearSVC_predict)\n",
    "print \"Accuraycy of Linear SVM\"\n",
    "print(\"accuracy: %0.3f\" % score_svm)\n",
    "print(metrics.classification_report(reviews_test_label,linearSVC_predict))"
   ]
  },
  {
   "cell_type": "code",
   "execution_count": 15,
   "metadata": {},
   "outputs": [
    {
     "name": "stdout",
     "output_type": "stream",
     "text": [
      "Accuraycy of Linear Decision Tree\n",
      "accuracy: 0.880\n",
      "             precision    recall  f1-score   support\n",
      "\n",
      "        0.0       0.88      0.88      0.88      5999\n",
      "        1.0       0.88      0.88      0.88      6001\n",
      "\n",
      "avg / total       0.88      0.88      0.88     12000\n",
      "\n"
     ]
    }
   ],
   "source": [
    "tree = DecisionTreeClassifier()\n",
    "tree.fit(reviews_train_set,reviews_train_label.ravel())\n",
    "tree_predict = tree.predict(reviews_test_set)\n",
    "score_tree = metrics.accuracy_score(reviews_test_label,tree_predict)\n",
    "print \"Accuraycy of Linear Decision Tree\"\n",
    "print(\"accuracy: %0.3f\" % score_tree)\n",
    "print(metrics.classification_report(reviews_test_label,tree_predict))"
   ]
  },
  {
   "cell_type": "code",
   "execution_count": 16,
   "metadata": {},
   "outputs": [
    {
     "name": "stdout",
     "output_type": "stream",
     "text": [
      "Accuraycy of MLP classifier\n",
      "accuracy: 0.952\n",
      "             precision    recall  f1-score   support\n",
      "\n",
      "        0.0       0.95      0.95      0.95      5999\n",
      "        1.0       0.95      0.95      0.95      6001\n",
      "\n",
      "avg / total       0.95      0.95      0.95     12000\n",
      "\n"
     ]
    }
   ],
   "source": [
    "mlp_classifier =  MLPClassifier(hidden_layer_sizes=(6,),alpha=1)\n",
    "mlp_classifier.fit(reviews_train_set,reviews_train_label.ravel())\n",
    "mlp_predict = mlp_classifier.predict(reviews_test_set)\n",
    "score_mlp = metrics.accuracy_score(reviews_test_label,mlp_predict)\n",
    "print \"Accuraycy of MLP classifier\"\n",
    "print(\"accuracy: %0.3f\" % score_mlp)\n",
    "print(metrics.classification_report(reviews_test_label,mlp_predict))"
   ]
  },
  {
   "cell_type": "markdown",
   "metadata": {},
   "source": [
    "##### Result: Multi layer perceptron won the battle."
   ]
  },
  {
   "cell_type": "markdown",
   "metadata": {},
   "source": [
    "### Using 5 fold cross-validation"
   ]
  },
  {
   "cell_type": "code",
   "execution_count": 17,
   "metadata": {},
   "outputs": [
    {
     "name": "stdout",
     "output_type": "stream",
     "text": [
      "Accuraycy with 5 fold cross validation of Naive Bayes\n",
      "accuracy: 0.934\n",
      "             precision    recall  f1-score   support\n",
      "\n",
      "        0.0       0.94      0.93      0.93     20000\n",
      "        1.0       0.93      0.94      0.93     20000\n",
      "\n",
      "avg / total       0.93      0.93      0.93     40000\n",
      "\n"
     ]
    }
   ],
   "source": [
    "naive_bayes_predict = cross_val_predict(MultinomialNB(), data_set, reviews_labels.ravel(), cv=5)\n",
    "nb_score = metrics.accuracy_score(reviews_labels,naive_bayes_predict)\n",
    "print \"Accuraycy with 5 fold cross validation of Naive Bayes\"\n",
    "print(\"accuracy: %0.3f\" % nb_score)\n",
    "print(metrics.classification_report(reviews_labels,naive_bayes_predict))"
   ]
  },
  {
   "cell_type": "code",
   "execution_count": 20,
   "metadata": {},
   "outputs": [
    {
     "name": "stdout",
     "output_type": "stream",
     "text": [
      "Accuraycy with 5 fold cross validation of Linear SVM\n",
      "accuracy: 0.914\n",
      "             precision    recall  f1-score   support\n",
      "\n",
      "        0.0       0.91      0.91      0.91     20000\n",
      "        1.0       0.91      0.91      0.91     20000\n",
      "\n",
      "avg / total       0.91      0.91      0.91     40000\n",
      "\n"
     ]
    }
   ],
   "source": [
    "linear_svm_predict = cross_val_predict(LinearSVC(), data_set, reviews_labels.ravel(), cv=5)\n",
    "linear_svm_score = metrics.accuracy_score(reviews_labels,linear_svm_predict)\n",
    "print \"Accuraycy with 5 fold cross validation of Linear SVM\"\n",
    "print(\"accuracy: %0.3f\" % linear_svm_score)\n",
    "print(metrics.classification_report(reviews_labels,linear_svm_predict))"
   ]
  },
  {
   "cell_type": "code",
   "execution_count": 21,
   "metadata": {
    "scrolled": false
   },
   "outputs": [
    {
     "name": "stdout",
     "output_type": "stream",
     "text": [
      "Accuraycy with 5 fold cross validation of Decision tree\n",
      "accuracy: 0.868\n",
      "             precision    recall  f1-score   support\n",
      "\n",
      "        0.0       0.87      0.87      0.87     20000\n",
      "        1.0       0.87      0.87      0.87     20000\n",
      "\n",
      "avg / total       0.87      0.87      0.87     40000\n",
      "\n"
     ]
    }
   ],
   "source": [
    "decision_tree_predict = cross_val_predict(tree, data_set, reviews_labels.ravel(), cv=5)\n",
    "decision_tree_score = metrics.accuracy_score(reviews_labels,decision_tree_predict)\n",
    "print \"Accuraycy with 5 fold cross validation of Decision tree\"\n",
    "print(\"accuracy: %0.3f\" % decision_tree_score)\n",
    "print(metrics.classification_report(reviews_labels,decision_tree_predict))"
   ]
  },
  {
   "cell_type": "code",
   "execution_count": 22,
   "metadata": {},
   "outputs": [
    {
     "name": "stdout",
     "output_type": "stream",
     "text": [
      "Accuraycy with 5 fold cross validation of MLP Classifier\n",
      "accuracy: 0.936\n",
      "             precision    recall  f1-score   support\n",
      "\n",
      "        0.0       0.93      0.95      0.94     20000\n",
      "        1.0       0.95      0.93      0.94     20000\n",
      "\n",
      "avg / total       0.94      0.94      0.94     40000\n",
      "\n"
     ]
    }
   ],
   "source": [
    "mlp_predict2 = cross_val_predict(MLPClassifier(hidden_layer_sizes=(6,),alpha=1), data_set, reviews_labels.ravel(), cv=5)\n",
    "mlp_score2 = metrics.accuracy_score(reviews_labels,mlp_predict2)\n",
    "print \"Accuraycy with 5 fold cross validation of MLP Classifier\"\n",
    "print(\"accuracy: %0.3f\" % mlp_score2)\n",
    "print(metrics.classification_report(reviews_labels,mlp_predict2))"
   ]
  },
  {
   "cell_type": "markdown",
   "metadata": {},
   "source": [
    "### Result: -\n",
    "1. Among all the classifiers Multi layer perceptron gives the best result i.e 95.2%( for k fold ) and accuracy obtained from naive bayes is also good which is 94.7%.\n",
    "2. When I apply 5 fold cross validation to different models then accuracy drops. The reason for this is cross_val_predic give prediction for each element in the input when it was in the test set.\n",
    "3. Decision tree didn't perform well but with random forest 90% accuracy can be achieved by increasing max_depth."
   ]
  },
  {
   "cell_type": "markdown",
   "metadata": {},
   "source": [
    "## Improving your classifier "
   ]
  },
  {
   "cell_type": "code",
   "execution_count": 23,
   "metadata": {},
   "outputs": [],
   "source": [
    "reviews_feature2 = parseEachReview()"
   ]
  },
  {
   "cell_type": "code",
   "execution_count": 24,
   "metadata": {},
   "outputs": [],
   "source": [
    "#Function for remvoing the stop word\n",
    "def removeStopWords(reviews_feature_arg):\n",
    "    reviews_feature_local = []\n",
    "    for review in reviews_feature_arg:\n",
    "        for word in stopwords.words('english'):\n",
    "            if review[word] != 0:\n",
    "                review[word] = 0\n",
    "        reviews_feature_local.append(review)\n",
    "    return reviews_feature_local\n",
    "reviews_feature3 = removeStopWords(reviews_feature2) # review list after removing stop word"
   ]
  },
  {
   "cell_type": "code",
   "execution_count": 25,
   "metadata": {
    "scrolled": true
   },
   "outputs": [
    {
     "data": {
      "text/plain": [
       "(40000, 34689)"
      ]
     },
     "execution_count": 25,
     "metadata": {},
     "output_type": "execute_result"
    }
   ],
   "source": [
    "data_set2 = vec.fit_transform(reviews_feature3)\n",
    "data_set2.shape"
   ]
  },
  {
   "cell_type": "code",
   "execution_count": 37,
   "metadata": {},
   "outputs": [],
   "source": [
    "reviews_train_set2,reviews_test_set2, reviews_train_label2,  reviews_test_label2 = train_test_split(data_set2,\n",
    "                                            reviews_labels , test_size=0.3, random_state=42)"
   ]
  },
  {
   "cell_type": "code",
   "execution_count": 32,
   "metadata": {},
   "outputs": [
    {
     "data": {
      "text/plain": [
       "(40000, 34691)"
      ]
     },
     "execution_count": 32,
     "metadata": {},
     "output_type": "execute_result"
    }
   ],
   "source": [
    "# Adding new features\n",
    "stars = reviews['stars']\n",
    "votes = reviews['votes']\n",
    "# variables for storing the \n",
    "funny = []\n",
    "useful = []\n",
    "cool = []\n",
    "foodCount = []\n",
    "index = 0\n",
    "\n",
    "for vote in votes:\n",
    "    if reviews_labels[index] == 0:\n",
    "        cool.append((vote['cool']+1) * 10)\n",
    "    else:\n",
    "        cool.append(vote['cool'] * 5)\n",
    "    funny.append(vote['funny'])\n",
    "    useful.append(vote['useful'])\n",
    "    index+1\n",
    "    \n",
    "def countWords(reviews_feature_arg):\n",
    "    three_list = []\n",
    "    four_list = []\n",
    "    five_list = []\n",
    "    food_count = []\n",
    "    food_list = ['restaur','food','order','like','servic','pizza','meal','sandwich']\n",
    "    for review in reviews_feature_arg:\n",
    "        three = 0\n",
    "        four = 0\n",
    "        five = 0\n",
    "        food = 0\n",
    "        for word in review.keys():\n",
    "            if review[word]!=0:\n",
    "                length = len(word)\n",
    "                if word in food_list:\n",
    "                    food = 20\n",
    "                if length == 3:\n",
    "                    three = three+1\n",
    "                elif length == 4:\n",
    "                    four = four+1\n",
    "                elif length == 5:\n",
    "                    five = five+1\n",
    "        three_list.append(three)\n",
    "        four_list.append(four)\n",
    "        five_list.append(five)\n",
    "        food_count.append(food)\n",
    "    return three_list, four_list, five_list,food_count\n",
    "\n",
    "three_word_count, four_word_count, five_word_count,food_word_count= countWords(reviews_feature3)\n",
    "\n",
    "tf_transformer = TfidfTransformer(use_idf=False).fit(data_set2)\n",
    "data_set_transformed = tf_transformer.transform(data_set2)\n",
    "#data_set_transformed = sparse.hstack((data_set_transformed,np.array(stars)[:,None]))\n",
    "#data_set_transformed = sparse.hstack((data_set_transformed,np.array(funny)[:,None]))\n",
    "data_set_transformed = sparse.hstack((data_set_transformed,np.array(useful)[:,None]))\n",
    "#data_set_transformed = sparse.hstack((data_set_transformed,np.array(cool)[:,None]))\n",
    "#data_set_transformed = sparse.hstack((data_set_transformed,np.array(three_word_count)[:,None]))\n",
    "#data_set_transformed = sparse.hstack((data_set_transformed,np.array(four_word_count)[:,None]))\n",
    "data_set_transformed = sparse.hstack((data_set_transformed,np.array(five_word_count)[:,None]))\n",
    "#data_set_transformed = sparse.hstack((data_set_transformed,np.array(food_word_count)[:,None]))\n",
    "data_set_transformed.shape"
   ]
  },
  {
   "cell_type": "code",
   "execution_count": 33,
   "metadata": {
    "scrolled": false
   },
   "outputs": [
    {
     "name": "stdout",
     "output_type": "stream",
     "text": [
      "accuracy: 0.937\n",
      "             precision    recall  f1-score   support\n",
      "\n",
      "        0.0       0.94      0.93      0.94     20000\n",
      "        1.0       0.93      0.94      0.94     20000\n",
      "\n",
      "avg / total       0.94      0.94      0.94     40000\n",
      "\n"
     ]
    }
   ],
   "source": [
    "naive_bayes_predict = cross_val_predict(MultinomialNB(), data_set_transformed, reviews_labels.ravel(), cv=5)\n",
    "nb_score = metrics.accuracy_score(reviews_labels,naive_bayes_predict)\n",
    "print(\"accuracy: %0.3f\" % nb_score)\n",
    "print(metrics.classification_report(reviews_labels,naive_bayes_predict))"
   ]
  },
  {
   "cell_type": "code",
   "execution_count": 34,
   "metadata": {},
   "outputs": [
    {
     "name": "stdout",
     "output_type": "stream",
     "text": [
      "accuracy: 0.938\n",
      "             precision    recall  f1-score   support\n",
      "\n",
      "        0.0       0.93      0.95      0.94     20000\n",
      "        1.0       0.95      0.93      0.94     20000\n",
      "\n",
      "avg / total       0.94      0.94      0.94     40000\n",
      "\n"
     ]
    }
   ],
   "source": [
    "linearSVC = LinearSVC()\n",
    "linear_svm_predict = cross_val_predict(linearSVC, data_set_transformed, reviews_labels.ravel(), cv=5)\n",
    "linear_svm_score = metrics.accuracy_score(reviews_labels,linear_svm_predict)\n",
    "print(\"accuracy: %0.3f\" % linear_svm_score)\n",
    "print(metrics.classification_report(reviews_labels,linear_svm_predict))"
   ]
  },
  {
   "cell_type": "code",
   "execution_count": 35,
   "metadata": {},
   "outputs": [
    {
     "name": "stdout",
     "output_type": "stream",
     "text": [
      "Accuraycy with 5 fold cross validation of MLP Classifier\n",
      "accuracy: 0.925\n",
      "             precision    recall  f1-score   support\n",
      "\n",
      "        0.0       0.91      0.94      0.93     20000\n",
      "        1.0       0.94      0.91      0.92     20000\n",
      "\n",
      "avg / total       0.93      0.92      0.92     40000\n",
      "\n"
     ]
    }
   ],
   "source": [
    "mlp_predict3 = cross_val_predict(MLPClassifier(hidden_layer_sizes=(6,),alpha=1), data_set_transformed, reviews_labels.ravel(), cv=5)\n",
    "mlp_score3 = metrics.accuracy_score(reviews_labels,mlp_predict3)\n",
    "print \"Accuraycy with 5 fold cross validation of MLP Classifier\"\n",
    "print(\"accuracy: %0.3f\" % mlp_score3)\n",
    "print(metrics.classification_report(reviews_labels,mlp_predict3))"
   ]
  },
  {
   "cell_type": "markdown",
   "metadata": {},
   "source": [
    "#### Optimizations performed:\n",
    "1. Stop words count set to zero in each review.\n",
    "2. Replacing word count with tf-idf\n",
    "3. Funny ratings and Fiver word count new added features\n",
    "\n",
    "#### Result obtained\n",
    "Note: I am compare results of K fold cross validation between classifiers\n",
    "1. The naive bayes accuracy increased from 94.3 to 94.7\n",
    "2. The SVM accuracy increased from 91.4 to 93.9\n",
    "3. MLp accuracy reduced. The reason may be that it perform better on word frequency \n",
    "4. SVM wins"
   ]
  },
  {
   "cell_type": "markdown",
   "metadata": {},
   "source": [
    "#### Most informative features in distinguishing these two classes"
   ]
  },
  {
   "cell_type": "code",
   "execution_count": 38,
   "metadata": {},
   "outputs": [
    {
     "name": "stdout",
     "output_type": "stream",
     "text": [
      "Informative features in predicting the Food-irrelevent class\n",
      "a\n",
      "aa\n",
      "aaaaa\n",
      "aaaaaa\n",
      "aaaaaand\n",
      "aaaaah\n",
      "aaaaall\n",
      "aaaaarrggggh\n",
      "aaaagh\n",
      "aaahhh\n",
      "aaannnnndddd\n",
      "aaargh\n",
      "aab\n",
      "aabc\n",
      "aac\n",
      "aaer\n",
      "aaha\n",
      "aanyway\n",
      "aardbark\n",
      "aawl\n",
      "ab\n",
      "abair\n",
      "abasyeeja\n",
      "abbi\n",
      "abd\n",
      "abdomen\n",
      "abel\n",
      "aber\n",
      "abercrombi\n",
      "abfertigungsschalt\n",
      "\n",
      "Informative features in predicting the Food-relevent class\n",
      "place\n",
      "food\n",
      "good\n",
      "like\n",
      "great\n",
      "go\n",
      "order\n",
      "time\n",
      "get\n",
      "veri\n",
      "one\n",
      "servic\n",
      "love\n",
      "realli\n",
      "back\n",
      "tri\n",
      "friend\n",
      "would\n",
      "restaur\n",
      "onli\n",
      "alway\n",
      "chicken\n",
      "even\n",
      "also\n",
      "best\n",
      "make\n",
      "littl\n",
      "menu\n",
      "eat\n",
      "come\n"
     ]
    }
   ],
   "source": [
    "naiveBayes = MultinomialNB()\n",
    "naiveBayes.fit(reviews_train_set2,reviews_train_label2.ravel())\n",
    "class_labels = naiveBayes.classes_\n",
    "feature_names = vec.get_feature_names()\n",
    "topn_class1 = sorted(zip(naiveBayes.coef_[0], feature_names))[:30]\n",
    "topn_class2 = sorted(zip(naiveBayes.coef_[0], feature_names))[-30:]\n",
    "print \"Informative features in predicting the Food-irrelevent class\"\n",
    "for coef, feat in topn_class1:\n",
    "    print feat\n",
    "print\n",
    "print \"Informative features in predicting the Food-relevent class\"\n",
    "for coef, feat in reversed(topn_class2):\n",
    "    print feat"
   ]
  }
 ],
 "metadata": {
  "anaconda-cloud": {},
  "kernelspec": {
   "display_name": "Python 2",
   "language": "python",
   "name": "python2"
  },
  "language_info": {
   "codemirror_mode": {
    "name": "ipython",
    "version": 2
   },
   "file_extension": ".py",
   "mimetype": "text/x-python",
   "name": "python",
   "nbconvert_exporter": "python",
   "pygments_lexer": "ipython2",
   "version": "2.7.14"
  }
 },
 "nbformat": 4,
 "nbformat_minor": 1
}
