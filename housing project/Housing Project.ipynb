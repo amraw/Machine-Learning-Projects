{
 "cells": [
  {
   "cell_type": "code",
   "execution_count": null,
   "metadata": {
    "collapsed": true
   },
   "outputs": [],
   "source": [
    "import os\n",
    "import tarfile\n",
    "from six.moves import urllib\n",
    "import pandas as pd\n",
    "import matplotlib.pyplot as plt\n",
    "import numpy as np\n",
    "\n",
    "#download the data file\n",
    "DOWNLOADROOT = \"https://raw.githubusercontent.com/ageron/handson-ml/master/\"\n",
    "HOUSINGPATH = os.path.join(\"datasets\", \"housing\")\n",
    "HOUSINGURL = DOWNLOADROOT + \"datasets/housing/housing.tgz\"\n",
    "#Function for downloading the data\n",
    "def fetchHousingData(housingUrl = HOUSINGURL, housingPath = HOUSINGPATH):\n",
    "    if not os.path.isdir(housingPath):\n",
    "        os.makedirs(housingPath)\n",
    "    tgzPath = os.path.join(housingPath, \"housing.tgz\")\n",
    "    urllib.request.urlretrieve(housingUrl, tgzPath)\n",
    "    housingTgz = tarfile.open(tgzPath)\n",
    "    housingTgz.extractall(path=housingPath)\n",
    "    housingTgz.close()"
   ]
  },
  {
   "cell_type": "code",
   "execution_count": null,
   "metadata": {
    "collapsed": true
   },
   "outputs": [],
   "source": [
    "#function for loading the data\n",
    "def loadHousingData(housingPath = HOUSINGPATH):\n",
    "    fetchHousingData()\n",
    "    csvPath = os.path.join(housingPath,\"housing.csv\")\n",
    "    return pd.read_csv(csvPath)"
   ]
  },
  {
   "cell_type": "code",
   "execution_count": null,
   "metadata": {},
   "outputs": [],
   "source": [
    "# Load housing data\n",
    "housingData = loadHousingData()\n",
    "# Read the top five data values and print\n",
    "housingData.head()"
   ]
  },
  {
   "cell_type": "code",
   "execution_count": null,
   "metadata": {},
   "outputs": [],
   "source": [
    "#useful to get a quick description of the data, \n",
    "#in particular the total number of rows, \n",
    "#and each attribute’s type and number of non-null value\n",
    "housingData.info()"
   ]
  },
  {
   "cell_type": "code",
   "execution_count": null,
   "metadata": {},
   "outputs": [],
   "source": [
    "#for categorical attribute it finds the number of values attribute takes and count number of data falls in that \n",
    "#category\n",
    "housingData[\"ocean_proximity\"].value_counts()"
   ]
  },
  {
   "cell_type": "code",
   "execution_count": null,
   "metadata": {},
   "outputs": [],
   "source": [
    "#Method shows the summery of the numerical Attribute\n",
    "housingData.describe()"
   ]
  },
  {
   "cell_type": "code",
   "execution_count": null,
   "metadata": {},
   "outputs": [],
   "source": [
    "housingData.hist(bins=50, figsize=(20,15))\n",
    "plt.show()"
   ]
  },
  {
   "cell_type": "code",
   "execution_count": null,
   "metadata": {
    "collapsed": true
   },
   "outputs": [],
   "source": [
    "# Code for spliting the data to training and test\n",
    "def split_training_set(data, test_ratio):\n",
    "    shuffled_indices = np.random.permutation(len(data))\n",
    "    size_test_set = int(len(data) * test_ratio)\n",
    "    test_indices = shuffled_indices[:size_test_set]\n",
    "    train_indices = shuffled_indices[size_test_set:]\n",
    "    return data.iloc[train_indices], data.iloc[test_indices]"
   ]
  },
  {
   "cell_type": "code",
   "execution_count": null,
   "metadata": {},
   "outputs": [],
   "source": [
    "#Dividing the data set to test and train\n",
    "train_set, test_set = split_training_set(housingData, 0.2)\n",
    "print(len(train_set),\" train +\",len(test_set),\" test\")"
   ]
  },
  {
   "cell_type": "code",
   "execution_count": null,
   "metadata": {
    "collapsed": true
   },
   "outputs": [],
   "source": [
    "#Sklearn in built function\n",
    "from sklearn.model_selection import train_test_split\n",
    "train_set, test_set = train_test_split(housingData, test_size=0.2, random_state=42)"
   ]
  },
  {
   "cell_type": "code",
   "execution_count": null,
   "metadata": {
    "collapsed": true
   },
   "outputs": [],
   "source": [
    "housingData[\"income_cat\"] = np.ceil(housingData[\"median_income\"] / 1.5)\n",
    "#print(housingData[\"income_cat\"])\n",
    "housingData[\"income_cat\"].where(housingData[\"income_cat\"] < 5, 5.0, inplace=True)"
   ]
  },
  {
   "cell_type": "code",
   "execution_count": null,
   "metadata": {
    "scrolled": true
   },
   "outputs": [],
   "source": [
    "#print(housingData[\"income_cat\"])\n",
    "housingData[\"income_cat\"].hist(bins=50,figsize=(20,15))\n",
    "plt.show()"
   ]
  },
  {
   "cell_type": "code",
   "execution_count": null,
   "metadata": {
    "collapsed": true
   },
   "outputs": [],
   "source": [
    "#Now doing stratified shuffling\n",
    "from sklearn.model_selection import StratifiedShuffleSplit\n",
    "split = StratifiedShuffleSplit(n_splits=1, test_size=0.2, random_state=42)\n",
    "for train_index, test_index in split.split(housingData, housingData[\"income_cat\"]):\n",
    "    strat_train_set = housingData.loc[train_index]\n",
    "    strat_test_set = housingData.loc[test_index]\n",
    "#print(strat_train_set)"
   ]
  },
  {
   "cell_type": "code",
   "execution_count": null,
   "metadata": {},
   "outputs": [],
   "source": [
    "strat_test_set[\"income_cat\"].value_counts() / len(strat_test_set)"
   ]
  },
  {
   "cell_type": "code",
   "execution_count": null,
   "metadata": {
    "collapsed": true
   },
   "outputs": [],
   "source": [
    "for set_ in (strat_train_set, strat_test_set):\n",
    "    set_.drop(\"income_cat\", axis=1, inplace=True)"
   ]
  },
  {
   "cell_type": "code",
   "execution_count": null,
   "metadata": {
    "collapsed": true
   },
   "outputs": [],
   "source": [
    "housing_data_copy = strat_train_set.copy()"
   ]
  },
  {
   "cell_type": "code",
   "execution_count": null,
   "metadata": {},
   "outputs": [],
   "source": [
    "\n",
    "housing_data_copy.plot(kind=\"scatter\", x=\"longitude\",y=\"latitude\");\n",
    "plt.show()"
   ]
  },
  {
   "cell_type": "code",
   "execution_count": null,
   "metadata": {},
   "outputs": [],
   "source": [
    "#Finding area of high density data\n",
    "housing_data_copy.plot(kind=\"scatter\", x=\"longitude\",y=\"latitude\", alpha=0.1);\n",
    "plt.show()"
   ]
  },
  {
   "cell_type": "code",
   "execution_count": null,
   "metadata": {},
   "outputs": [],
   "source": [
    "#We will use a predefined color map (option cmap) called jet, \n",
    "#which ranges from blue (low values) to red (high prices).\n",
    "housing_data_copy.plot(kind=\"scatter\", x=\"longitude\", y=\"latitude\", alpha=0.4,\n",
    "    s=housing_data_copy[\"population\"]/100, label=\"population\", figsize=(10,7),\n",
    "    c=\"median_house_value\", cmap=plt.get_cmap(\"jet\"), colorbar=True\n",
    ")\n",
    "plt.legend()\n",
    "plt.show()"
   ]
  },
  {
   "cell_type": "code",
   "execution_count": null,
   "metadata": {},
   "outputs": [],
   "source": [
    "#Finding correlation b/w the data set\n",
    "corr_matrix = housing_data_copy.corr()"
   ]
  }
 ],
 "metadata": {
  "kernelspec": {
   "display_name": "Python 3",
   "language": "python",
   "name": "python3"
  },
  "language_info": {
   "codemirror_mode": {
    "name": "ipython",
    "version": 3
   },
   "file_extension": ".py",
   "mimetype": "text/x-python",
   "name": "python",
   "nbconvert_exporter": "python",
   "pygments_lexer": "ipython3",
   "version": "3.6.1"
  }
 },
 "nbformat": 4,
 "nbformat_minor": 2
}
